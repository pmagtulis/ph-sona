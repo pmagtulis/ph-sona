{
 "cells": [
  {
   "cell_type": "markdown",
   "id": "e1db7fd6",
   "metadata": {},
   "source": [
    "# All about classifiers\n",
    "\n",
    "This takes off from the index [Philippines SONA file](https://github.com/pmagtulis/ph-sona.git). We will be using a CSV file here that can be found in the repository. \n",
    "\n",
    "The purpose of this notebook is to dig deeper into the different State of the Nation Addresses of Philippine presidents, this time by training classifiers."
   ]
  },
  {
   "cell_type": "markdown",
   "id": "06e18a76",
   "metadata": {},
   "source": [
    "## Do all your imports"
   ]
  },
  {
   "cell_type": "code",
   "execution_count": 1,
   "id": "fd0cec3b",
   "metadata": {},
   "outputs": [],
   "source": [
    "import pandas as pd\n",
    "import re\n",
    "import numpy as np\n",
    "from sklearn.feature_extraction.text import CountVectorizer, TfidfVectorizer\n",
    "from sklearn.naive_bayes import MultinomialNB\n",
    "import stopwordsiso as stopwords\n",
    "import altair as alt"
   ]
  },
  {
   "cell_type": "markdown",
   "id": "45530337",
   "metadata": {},
   "source": [
    "## Read CSV"
   ]
  },
  {
   "cell_type": "code",
   "execution_count": 2,
   "id": "b518f609",
   "metadata": {},
   "outputs": [
    {
     "data": {
      "text/html": [
       "<div>\n",
       "<style scoped>\n",
       "    .dataframe tbody tr th:only-of-type {\n",
       "        vertical-align: middle;\n",
       "    }\n",
       "\n",
       "    .dataframe tbody tr th {\n",
       "        vertical-align: top;\n",
       "    }\n",
       "\n",
       "    .dataframe thead th {\n",
       "        text-align: right;\n",
       "    }\n",
       "</style>\n",
       "<table border=\"1\" class=\"dataframe\">\n",
       "  <thead>\n",
       "    <tr style=\"text-align: right;\">\n",
       "      <th></th>\n",
       "      <th>president</th>\n",
       "      <th>date</th>\n",
       "      <th>title</th>\n",
       "      <th>link</th>\n",
       "      <th>venue</th>\n",
       "      <th>session</th>\n",
       "      <th>speech</th>\n",
       "    </tr>\n",
       "  </thead>\n",
       "  <tbody>\n",
       "    <tr>\n",
       "      <th>0</th>\n",
       "      <td>Elpidio Quirino</td>\n",
       "      <td>1949-01-24</td>\n",
       "      <td>The Most Urgent Aim of the Administration</td>\n",
       "      <td>http://www.officialgazette.gov.ph/1949/01/24/e...</td>\n",
       "      <td>Legislative Building, Manila</td>\n",
       "      <td>First Congress, Third Session</td>\n",
       "      <td>\\nState-of-the-Nation Message\\nof\\nHis Excelle...</td>\n",
       "    </tr>\n",
       "    <tr>\n",
       "      <th>1</th>\n",
       "      <td>Elpidio Quirino</td>\n",
       "      <td>1950-01-23</td>\n",
       "      <td>Address on the State of the Nation</td>\n",
       "      <td>http://www.officialgazette.gov.ph/1950/01/23/e...</td>\n",
       "      <td>Delivered via radio broadcast from Baltimore, ...</td>\n",
       "      <td>Second Congress, First Session</td>\n",
       "      <td>\\nAddress\\nof\\nHis Excellency Elpidio Quirino\\...</td>\n",
       "    </tr>\n",
       "    <tr>\n",
       "      <th>2</th>\n",
       "      <td>Elpidio Quirino</td>\n",
       "      <td>1951-01-22</td>\n",
       "      <td>The State of the Nation</td>\n",
       "      <td>http://www.officialgazette.gov.ph/1951/01/22/e...</td>\n",
       "      <td>Legislative Building, Manila</td>\n",
       "      <td>Second Congress, Second Session</td>\n",
       "      <td>\\nMessage\\nof\\nHis Excellency Elpidio Quirino\\...</td>\n",
       "    </tr>\n",
       "    <tr>\n",
       "      <th>3</th>\n",
       "      <td>Elpidio Quirino</td>\n",
       "      <td>1952-01-28</td>\n",
       "      <td>The State of the Nation</td>\n",
       "      <td>http://www.officialgazette.gov.ph/1952/01/28/e...</td>\n",
       "      <td>Legislative Building, Manila</td>\n",
       "      <td>Second Congress, Third Session</td>\n",
       "      <td>\\nMessage\\nof\\nHis Excellency Elpidio Quirino\\...</td>\n",
       "    </tr>\n",
       "    <tr>\n",
       "      <th>4</th>\n",
       "      <td>Elpidio Quirino</td>\n",
       "      <td>1953-01-26</td>\n",
       "      <td>The State of the Nation</td>\n",
       "      <td>http://www.officialgazette.gov.ph/1953/01/26/e...</td>\n",
       "      <td>Legislative Building, Manila</td>\n",
       "      <td>Second Congress, Fourth Session</td>\n",
       "      <td>\\nMessage\\nof\\nHis Excellency Elpidio Quirino\\...</td>\n",
       "    </tr>\n",
       "  </tbody>\n",
       "</table>\n",
       "</div>"
      ],
      "text/plain": [
       "         president        date                                      title  \\\n",
       "0  Elpidio Quirino  1949-01-24  The Most Urgent Aim of the Administration   \n",
       "1  Elpidio Quirino  1950-01-23         Address on the State of the Nation   \n",
       "2  Elpidio Quirino  1951-01-22                    The State of the Nation   \n",
       "3  Elpidio Quirino  1952-01-28                    The State of the Nation   \n",
       "4  Elpidio Quirino  1953-01-26                    The State of the Nation   \n",
       "\n",
       "                                                link  \\\n",
       "0  http://www.officialgazette.gov.ph/1949/01/24/e...   \n",
       "1  http://www.officialgazette.gov.ph/1950/01/23/e...   \n",
       "2  http://www.officialgazette.gov.ph/1951/01/22/e...   \n",
       "3  http://www.officialgazette.gov.ph/1952/01/28/e...   \n",
       "4  http://www.officialgazette.gov.ph/1953/01/26/e...   \n",
       "\n",
       "                                               venue  \\\n",
       "0                       Legislative Building, Manila   \n",
       "1  Delivered via radio broadcast from Baltimore, ...   \n",
       "2                       Legislative Building, Manila   \n",
       "3                       Legislative Building, Manila   \n",
       "4                       Legislative Building, Manila   \n",
       "\n",
       "                           session  \\\n",
       "0    First Congress, Third Session   \n",
       "1   Second Congress, First Session   \n",
       "2  Second Congress, Second Session   \n",
       "3   Second Congress, Third Session   \n",
       "4  Second Congress, Fourth Session   \n",
       "\n",
       "                                              speech  \n",
       "0  \\nState-of-the-Nation Message\\nof\\nHis Excelle...  \n",
       "1  \\nAddress\\nof\\nHis Excellency Elpidio Quirino\\...  \n",
       "2  \\nMessage\\nof\\nHis Excellency Elpidio Quirino\\...  \n",
       "3  \\nMessage\\nof\\nHis Excellency Elpidio Quirino\\...  \n",
       "4  \\nMessage\\nof\\nHis Excellency Elpidio Quirino\\...  "
      ]
     },
     "execution_count": 2,
     "metadata": {},
     "output_type": "execute_result"
    }
   ],
   "source": [
    "df=pd.read_csv('leaders.csv')\n",
    "df.head()"
   ]
  },
  {
   "cell_type": "markdown",
   "id": "7fa73f7c",
   "metadata": {},
   "source": [
    "## Parameters\n",
    "\n",
    "We will be using the same parameters as the original notebook."
   ]
  },
  {
   "cell_type": "code",
   "execution_count": 3,
   "id": "96c79225",
   "metadata": {},
   "outputs": [],
   "source": [
    "def preprocess_text(text):\n",
    "    text = text.lower()\n",
    "    text = re.sub(r'\\d+', '', text)\n",
    "    return text #removes all numbers\n",
    "\n",
    "y_columns = ['president', 'speeches']\n",
    "BINARY=False\n",
    "NGRAM_RANGE=(1,1)\n",
    "MIN_DF=0\n",
    "STPWORDS=stopwords.stopwords([\"en\", \"tl\"]) #removes Tagalog stopwords\n",
    "STPWORDS.update(['yung', 'iyan', 'yan', 'diyan', 'applause', 'laughter', 'palakpakan', 'rin', 'din', 'po',\n",
    "                'pong', 'pang', 'pa', 'nang', 'ng', 'pag',\n",
    "                'kapag', 'nga']) #adds more Tagalog stopwords not included in the package \n",
    "\n",
    "vectorizer = CountVectorizer(\n",
    "    stop_words=STPWORDS,\n",
    "    ngram_range=NGRAM_RANGE,\n",
    "    binary=BINARY,\n",
    "    min_df=MIN_DF,\n",
    "    preprocessor=preprocess_text\n",
    ")"
   ]
  },
  {
   "cell_type": "markdown",
   "id": "c3f745b8",
   "metadata": {},
   "source": [
    "## Training a classifier\n",
    "\n",
    "In here, we will be comparing **pre-martial law** and **post-martial law** presidents to test the hypothesis of how different were the contents of their speeches were to each other.\n",
    "\n",
    "First we begin by cleaning the dataset."
   ]
  },
  {
   "cell_type": "markdown",
   "id": "09bcf8a7",
   "metadata": {},
   "source": [
    "### Convert to datetime\n",
    "\n",
    "This is crucial since we will be using the dates to create a new column that will serve as our classifier for both **pre-martial law** and **post-martial law** presidents."
   ]
  },
  {
   "cell_type": "code",
   "execution_count": 4,
   "id": "d213e1ad",
   "metadata": {},
   "outputs": [
    {
     "data": {
      "text/plain": [
       "president    object\n",
       "date         object\n",
       "title        object\n",
       "link         object\n",
       "venue        object\n",
       "session      object\n",
       "speech       object\n",
       "dtype: object"
      ]
     },
     "execution_count": 4,
     "metadata": {},
     "output_type": "execute_result"
    }
   ],
   "source": [
    "df.dtypes"
   ]
  },
  {
   "cell_type": "code",
   "execution_count": 5,
   "id": "256e9724",
   "metadata": {},
   "outputs": [
    {
     "data": {
      "text/html": [
       "<div>\n",
       "<style scoped>\n",
       "    .dataframe tbody tr th:only-of-type {\n",
       "        vertical-align: middle;\n",
       "    }\n",
       "\n",
       "    .dataframe tbody tr th {\n",
       "        vertical-align: top;\n",
       "    }\n",
       "\n",
       "    .dataframe thead th {\n",
       "        text-align: right;\n",
       "    }\n",
       "</style>\n",
       "<table border=\"1\" class=\"dataframe\">\n",
       "  <thead>\n",
       "    <tr style=\"text-align: right;\">\n",
       "      <th></th>\n",
       "      <th>president</th>\n",
       "      <th>date</th>\n",
       "      <th>title</th>\n",
       "      <th>link</th>\n",
       "      <th>venue</th>\n",
       "      <th>session</th>\n",
       "      <th>speech</th>\n",
       "    </tr>\n",
       "  </thead>\n",
       "  <tbody>\n",
       "    <tr>\n",
       "      <th>0</th>\n",
       "      <td>Elpidio Quirino</td>\n",
       "      <td>1949-01-24</td>\n",
       "      <td>The Most Urgent Aim of the Administration</td>\n",
       "      <td>http://www.officialgazette.gov.ph/1949/01/24/e...</td>\n",
       "      <td>Legislative Building, Manila</td>\n",
       "      <td>First Congress, Third Session</td>\n",
       "      <td>\\nState-of-the-Nation Message\\nof\\nHis Excelle...</td>\n",
       "    </tr>\n",
       "    <tr>\n",
       "      <th>1</th>\n",
       "      <td>Elpidio Quirino</td>\n",
       "      <td>1950-01-23</td>\n",
       "      <td>Address on the State of the Nation</td>\n",
       "      <td>http://www.officialgazette.gov.ph/1950/01/23/e...</td>\n",
       "      <td>Delivered via radio broadcast from Baltimore, ...</td>\n",
       "      <td>Second Congress, First Session</td>\n",
       "      <td>\\nAddress\\nof\\nHis Excellency Elpidio Quirino\\...</td>\n",
       "    </tr>\n",
       "    <tr>\n",
       "      <th>2</th>\n",
       "      <td>Elpidio Quirino</td>\n",
       "      <td>1951-01-22</td>\n",
       "      <td>The State of the Nation</td>\n",
       "      <td>http://www.officialgazette.gov.ph/1951/01/22/e...</td>\n",
       "      <td>Legislative Building, Manila</td>\n",
       "      <td>Second Congress, Second Session</td>\n",
       "      <td>\\nMessage\\nof\\nHis Excellency Elpidio Quirino\\...</td>\n",
       "    </tr>\n",
       "    <tr>\n",
       "      <th>3</th>\n",
       "      <td>Elpidio Quirino</td>\n",
       "      <td>1952-01-28</td>\n",
       "      <td>The State of the Nation</td>\n",
       "      <td>http://www.officialgazette.gov.ph/1952/01/28/e...</td>\n",
       "      <td>Legislative Building, Manila</td>\n",
       "      <td>Second Congress, Third Session</td>\n",
       "      <td>\\nMessage\\nof\\nHis Excellency Elpidio Quirino\\...</td>\n",
       "    </tr>\n",
       "    <tr>\n",
       "      <th>4</th>\n",
       "      <td>Elpidio Quirino</td>\n",
       "      <td>1953-01-26</td>\n",
       "      <td>The State of the Nation</td>\n",
       "      <td>http://www.officialgazette.gov.ph/1953/01/26/e...</td>\n",
       "      <td>Legislative Building, Manila</td>\n",
       "      <td>Second Congress, Fourth Session</td>\n",
       "      <td>\\nMessage\\nof\\nHis Excellency Elpidio Quirino\\...</td>\n",
       "    </tr>\n",
       "  </tbody>\n",
       "</table>\n",
       "</div>"
      ],
      "text/plain": [
       "         president       date                                      title  \\\n",
       "0  Elpidio Quirino 1949-01-24  The Most Urgent Aim of the Administration   \n",
       "1  Elpidio Quirino 1950-01-23         Address on the State of the Nation   \n",
       "2  Elpidio Quirino 1951-01-22                    The State of the Nation   \n",
       "3  Elpidio Quirino 1952-01-28                    The State of the Nation   \n",
       "4  Elpidio Quirino 1953-01-26                    The State of the Nation   \n",
       "\n",
       "                                                link  \\\n",
       "0  http://www.officialgazette.gov.ph/1949/01/24/e...   \n",
       "1  http://www.officialgazette.gov.ph/1950/01/23/e...   \n",
       "2  http://www.officialgazette.gov.ph/1951/01/22/e...   \n",
       "3  http://www.officialgazette.gov.ph/1952/01/28/e...   \n",
       "4  http://www.officialgazette.gov.ph/1953/01/26/e...   \n",
       "\n",
       "                                               venue  \\\n",
       "0                       Legislative Building, Manila   \n",
       "1  Delivered via radio broadcast from Baltimore, ...   \n",
       "2                       Legislative Building, Manila   \n",
       "3                       Legislative Building, Manila   \n",
       "4                       Legislative Building, Manila   \n",
       "\n",
       "                           session  \\\n",
       "0    First Congress, Third Session   \n",
       "1   Second Congress, First Session   \n",
       "2  Second Congress, Second Session   \n",
       "3   Second Congress, Third Session   \n",
       "4  Second Congress, Fourth Session   \n",
       "\n",
       "                                              speech  \n",
       "0  \\nState-of-the-Nation Message\\nof\\nHis Excelle...  \n",
       "1  \\nAddress\\nof\\nHis Excellency Elpidio Quirino\\...  \n",
       "2  \\nMessage\\nof\\nHis Excellency Elpidio Quirino\\...  \n",
       "3  \\nMessage\\nof\\nHis Excellency Elpidio Quirino\\...  \n",
       "4  \\nMessage\\nof\\nHis Excellency Elpidio Quirino\\...  "
      ]
     },
     "execution_count": 5,
     "metadata": {},
     "output_type": "execute_result"
    }
   ],
   "source": [
    "df.date = pd.to_datetime(df.date)\n",
    "df.head()"
   ]
  },
  {
   "cell_type": "markdown",
   "id": "4c5f8e71",
   "metadata": {},
   "source": [
    "### Add a binary identifier column\n",
    "\n",
    "This can either be **pre_ml** or **post_ml** depending on date the speech was delivered."
   ]
  },
  {
   "cell_type": "code",
   "execution_count": 6,
   "id": "1fb3cfb3",
   "metadata": {},
   "outputs": [
    {
     "data": {
      "text/html": [
       "<div>\n",
       "<style scoped>\n",
       "    .dataframe tbody tr th:only-of-type {\n",
       "        vertical-align: middle;\n",
       "    }\n",
       "\n",
       "    .dataframe tbody tr th {\n",
       "        vertical-align: top;\n",
       "    }\n",
       "\n",
       "    .dataframe thead th {\n",
       "        text-align: right;\n",
       "    }\n",
       "</style>\n",
       "<table border=\"1\" class=\"dataframe\">\n",
       "  <thead>\n",
       "    <tr style=\"text-align: right;\">\n",
       "      <th></th>\n",
       "      <th>president</th>\n",
       "      <th>date</th>\n",
       "      <th>title</th>\n",
       "      <th>link</th>\n",
       "      <th>venue</th>\n",
       "      <th>session</th>\n",
       "      <th>speech</th>\n",
       "      <th>classifier</th>\n",
       "    </tr>\n",
       "  </thead>\n",
       "  <tbody>\n",
       "    <tr>\n",
       "      <th>0</th>\n",
       "      <td>Elpidio Quirino</td>\n",
       "      <td>1949-01-24</td>\n",
       "      <td>The Most Urgent Aim of the Administration</td>\n",
       "      <td>http://www.officialgazette.gov.ph/1949/01/24/e...</td>\n",
       "      <td>Legislative Building, Manila</td>\n",
       "      <td>First Congress, Third Session</td>\n",
       "      <td>\\nState-of-the-Nation Message\\nof\\nHis Excelle...</td>\n",
       "      <td>PE</td>\n",
       "    </tr>\n",
       "    <tr>\n",
       "      <th>1</th>\n",
       "      <td>Elpidio Quirino</td>\n",
       "      <td>1950-01-23</td>\n",
       "      <td>Address on the State of the Nation</td>\n",
       "      <td>http://www.officialgazette.gov.ph/1950/01/23/e...</td>\n",
       "      <td>Delivered via radio broadcast from Baltimore, ...</td>\n",
       "      <td>Second Congress, First Session</td>\n",
       "      <td>\\nAddress\\nof\\nHis Excellency Elpidio Quirino\\...</td>\n",
       "      <td>PE</td>\n",
       "    </tr>\n",
       "  </tbody>\n",
       "</table>\n",
       "</div>"
      ],
      "text/plain": [
       "         president       date                                      title  \\\n",
       "0  Elpidio Quirino 1949-01-24  The Most Urgent Aim of the Administration   \n",
       "1  Elpidio Quirino 1950-01-23         Address on the State of the Nation   \n",
       "\n",
       "                                                link  \\\n",
       "0  http://www.officialgazette.gov.ph/1949/01/24/e...   \n",
       "1  http://www.officialgazette.gov.ph/1950/01/23/e...   \n",
       "\n",
       "                                               venue  \\\n",
       "0                       Legislative Building, Manila   \n",
       "1  Delivered via radio broadcast from Baltimore, ...   \n",
       "\n",
       "                          session  \\\n",
       "0   First Congress, Third Session   \n",
       "1  Second Congress, First Session   \n",
       "\n",
       "                                              speech classifier  \n",
       "0  \\nState-of-the-Nation Message\\nof\\nHis Excelle...         PE  \n",
       "1  \\nAddress\\nof\\nHis Excellency Elpidio Quirino\\...         PE  "
      ]
     },
     "execution_count": 6,
     "metadata": {},
     "output_type": "execute_result"
    }
   ],
   "source": [
    "df['classifier'] = np.where(df['date']>= '1986-01-01', 'PO', 'PE')\n",
    "df.head(2)"
   ]
  },
  {
   "cell_type": "markdown",
   "id": "37fa9159",
   "metadata": {},
   "source": [
    "## Tokenize, train and test"
   ]
  },
  {
   "cell_type": "code",
   "execution_count": 7,
   "id": "9e77413a",
   "metadata": {},
   "outputs": [
    {
     "name": "stderr",
     "output_type": "stream",
     "text": [
      "/Users/prinzmagtulis/.pyenv/versions/3.10.0/lib/python3.10/site-packages/sklearn/feature_extraction/text.py:396: UserWarning: Your stop_words may be inconsistent with your preprocessing. Tokenizing the stop words generated tokens ['ain', 'daren', 'hadn', 'herse', 'himse', 'itse', 'mayn', 'mightn', 'mon', 'mustn', 'myse', 'needn', 'oughtn', 'shan'] not in stop_words.\n",
      "  warnings.warn(\n"
     ]
    }
   ],
   "source": [
    "X = vectorizer.fit_transform(df['speech'])\n",
    "y = np.array(df['classifier'])\n",
    "# 1 is post-ml\n",
    "y = (y == 'PO').astype('int') "
   ]
  },
  {
   "cell_type": "code",
   "execution_count": 8,
   "id": "660afa8f",
   "metadata": {},
   "outputs": [
    {
     "data": {
      "text/plain": [
       "MultinomialNB(alpha=1e-10)"
      ]
     },
     "execution_count": 8,
     "metadata": {},
     "output_type": "execute_result"
    }
   ],
   "source": [
    "# Train Classifier\n",
    "clf = MultinomialNB(alpha=1.0e-10, class_prior=None, fit_prior=True)\n",
    "clf.fit(X, y)"
   ]
  },
  {
   "cell_type": "code",
   "execution_count": 9,
   "id": "510432ff",
   "metadata": {},
   "outputs": [
    {
     "ename": "NameError",
     "evalue": "name 'cross_validate' is not defined",
     "output_type": "error",
     "traceback": [
      "\u001b[0;31m---------------------------------------------------------------------------\u001b[0m",
      "\u001b[0;31mNameError\u001b[0m                                 Traceback (most recent call last)",
      "\u001b[0;32m/var/folders/01/dz49lpcd4qq_yksvf114xzfc0000gn/T/ipykernel_19771/2568240713.py\u001b[0m in \u001b[0;36m<module>\u001b[0;34m\u001b[0m\n\u001b[1;32m      2\u001b[0m \u001b[0;31m# 5-fold cross-validation\u001b[0m\u001b[0;34m\u001b[0m\u001b[0;34m\u001b[0m\u001b[0m\n\u001b[1;32m      3\u001b[0m \u001b[0mscoring\u001b[0m \u001b[0;34m=\u001b[0m \u001b[0;34m[\u001b[0m\u001b[0;34m'accuracy'\u001b[0m\u001b[0;34m,\u001b[0m \u001b[0;34m'precision'\u001b[0m\u001b[0;34m,\u001b[0m \u001b[0;34m'recall'\u001b[0m\u001b[0;34m,\u001b[0m \u001b[0;34m'f1'\u001b[0m\u001b[0;34m]\u001b[0m\u001b[0;34m\u001b[0m\u001b[0;34m\u001b[0m\u001b[0m\n\u001b[0;32m----> 4\u001b[0;31m \u001b[0mscores\u001b[0m \u001b[0;34m=\u001b[0m \u001b[0mcross_validate\u001b[0m\u001b[0;34m(\u001b[0m\u001b[0mclf\u001b[0m\u001b[0;34m,\u001b[0m \u001b[0mX\u001b[0m\u001b[0;34m,\u001b[0m \u001b[0my\u001b[0m\u001b[0;34m,\u001b[0m \u001b[0mscoring\u001b[0m\u001b[0;34m=\u001b[0m\u001b[0mscoring\u001b[0m\u001b[0;34m,\u001b[0m \u001b[0mcv\u001b[0m\u001b[0;34m=\u001b[0m\u001b[0;36m4\u001b[0m\u001b[0;34m)\u001b[0m\u001b[0;34m\u001b[0m\u001b[0;34m\u001b[0m\u001b[0m\n\u001b[0m\u001b[1;32m      5\u001b[0m \u001b[0mdisplay\u001b[0m\u001b[0;34m(\u001b[0m\u001b[0mpd\u001b[0m\u001b[0;34m.\u001b[0m\u001b[0mDataFrame\u001b[0m\u001b[0;34m(\u001b[0m\u001b[0mscores\u001b[0m\u001b[0;34m)\u001b[0m\u001b[0;34m.\u001b[0m\u001b[0mround\u001b[0m\u001b[0;34m(\u001b[0m\u001b[0;36m2\u001b[0m\u001b[0;34m)\u001b[0m\u001b[0;34m)\u001b[0m\u001b[0;34m\u001b[0m\u001b[0;34m\u001b[0m\u001b[0m\n\u001b[1;32m      6\u001b[0m \u001b[0;34m\u001b[0m\u001b[0m\n",
      "\u001b[0;31mNameError\u001b[0m: name 'cross_validate' is not defined"
     ]
    }
   ],
   "source": [
    "# Test Classifier\n",
    "# 5-fold cross-validation\n",
    "scoring = ['accuracy', 'precision', 'recall', 'f1']\n",
    "scores = cross_validate(clf, X, y, scoring=scoring, cv=4)\n",
    "display(pd.DataFrame(scores).round(2))\n",
    "\n",
    "pd.DataFrame(scores)[\n",
    "    ['test_accuracy','test_precision','test_recall','test_f1']]\\\n",
    "    .mean().round(2)"
   ]
  },
  {
   "cell_type": "code",
   "execution_count": 10,
   "id": "19f98217",
   "metadata": {},
   "outputs": [
    {
     "data": {
      "text/html": [
       "<div>\n",
       "<style scoped>\n",
       "    .dataframe tbody tr th:only-of-type {\n",
       "        vertical-align: middle;\n",
       "    }\n",
       "\n",
       "    .dataframe tbody tr th {\n",
       "        vertical-align: top;\n",
       "    }\n",
       "\n",
       "    .dataframe thead th {\n",
       "        text-align: right;\n",
       "    }\n",
       "</style>\n",
       "<table border=\"1\" class=\"dataframe\">\n",
       "  <thead>\n",
       "    <tr style=\"text-align: right;\">\n",
       "      <th></th>\n",
       "      <th>pre-ml_count</th>\n",
       "      <th>post-ml_count</th>\n",
       "      <th>postml_log_proba</th>\n",
       "      <th>preml_log_proba</th>\n",
       "    </tr>\n",
       "  </thead>\n",
       "  <tbody>\n",
       "    <tr>\n",
       "      <th>government</th>\n",
       "      <td>418.0</td>\n",
       "      <td>595.0</td>\n",
       "      <td>-4.437940</td>\n",
       "      <td>-5.103089</td>\n",
       "    </tr>\n",
       "    <tr>\n",
       "      <th>people</th>\n",
       "      <td>371.0</td>\n",
       "      <td>478.0</td>\n",
       "      <td>-4.557219</td>\n",
       "      <td>-5.322040</td>\n",
       "    </tr>\n",
       "    <tr>\n",
       "      <th>economic</th>\n",
       "      <td>331.0</td>\n",
       "      <td>232.0</td>\n",
       "      <td>-4.671303</td>\n",
       "      <td>-6.044913</td>\n",
       "    </tr>\n",
       "    <tr>\n",
       "      <th>program</th>\n",
       "      <td>283.0</td>\n",
       "      <td>213.0</td>\n",
       "      <td>-4.827974</td>\n",
       "      <td>-6.130359</td>\n",
       "    </tr>\n",
       "    <tr>\n",
       "      <th>development</th>\n",
       "      <td>250.0</td>\n",
       "      <td>276.0</td>\n",
       "      <td>-4.951960</td>\n",
       "      <td>-5.871250</td>\n",
       "    </tr>\n",
       "    <tr>\n",
       "      <th>national</th>\n",
       "      <td>236.0</td>\n",
       "      <td>336.0</td>\n",
       "      <td>-5.009590</td>\n",
       "      <td>-5.674540</td>\n",
       "    </tr>\n",
       "    <tr>\n",
       "      <th>public</th>\n",
       "      <td>221.0</td>\n",
       "      <td>225.0</td>\n",
       "      <td>-5.075259</td>\n",
       "      <td>-6.075550</td>\n",
       "    </tr>\n",
       "    <tr>\n",
       "      <th>country</th>\n",
       "      <td>179.0</td>\n",
       "      <td>352.0</td>\n",
       "      <td>-5.286036</td>\n",
       "      <td>-5.628020</td>\n",
       "    </tr>\n",
       "    <tr>\n",
       "      <th>projects</th>\n",
       "      <td>151.0</td>\n",
       "      <td>85.0</td>\n",
       "      <td>-5.456142</td>\n",
       "      <td>-7.048999</td>\n",
       "    </tr>\n",
       "    <tr>\n",
       "      <th>production</th>\n",
       "      <td>149.0</td>\n",
       "      <td>26.0</td>\n",
       "      <td>-5.469475</td>\n",
       "      <td>-8.233554</td>\n",
       "    </tr>\n",
       "  </tbody>\n",
       "</table>\n",
       "</div>"
      ],
      "text/plain": [
       "             pre-ml_count  post-ml_count  postml_log_proba  preml_log_proba\n",
       "government          418.0          595.0         -4.437940        -5.103089\n",
       "people              371.0          478.0         -4.557219        -5.322040\n",
       "economic            331.0          232.0         -4.671303        -6.044913\n",
       "program             283.0          213.0         -4.827974        -6.130359\n",
       "development         250.0          276.0         -4.951960        -5.871250\n",
       "national            236.0          336.0         -5.009590        -5.674540\n",
       "public              221.0          225.0         -5.075259        -6.075550\n",
       "country             179.0          352.0         -5.286036        -5.628020\n",
       "projects            151.0           85.0         -5.456142        -7.048999\n",
       "production          149.0           26.0         -5.469475        -8.233554"
      ]
     },
     "execution_count": 10,
     "metadata": {},
     "output_type": "execute_result"
    }
   ],
   "source": [
    "pd.DataFrame(np.concatenate((clf.feature_count_, clf.feature_log_prob_), axis=0),\n",
    "            index=['pre-ml_count', 'post-ml_count', 'postml_log_proba', 'preml_log_proba'],\n",
    "            columns=vectorizer.get_feature_names_out()\n",
    "            )\\\n",
    "    .T.sort_values(by='postml_log_proba', ascending=False)\\\n",
    "    .head(10)"
   ]
  },
  {
   "cell_type": "code",
   "execution_count": null,
   "id": "bd47401f",
   "metadata": {},
   "outputs": [],
   "source": []
  }
 ],
 "metadata": {
  "kernelspec": {
   "display_name": "Python 3 (ipykernel)",
   "language": "python",
   "name": "python3"
  },
  "language_info": {
   "codemirror_mode": {
    "name": "ipython",
    "version": 3
   },
   "file_extension": ".py",
   "mimetype": "text/x-python",
   "name": "python",
   "nbconvert_exporter": "python",
   "pygments_lexer": "ipython3",
   "version": "3.10.0"
  }
 },
 "nbformat": 4,
 "nbformat_minor": 5
}
